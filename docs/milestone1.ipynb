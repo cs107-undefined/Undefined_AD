{
 "cells": [
  {
   "cell_type": "markdown",
   "source": [
    "## Group 1 Milestone1 doc\n"
   ],
   "metadata": {}
  },
  {
   "cell_type": "markdown",
   "source": [
    "### Introduction\n",
    "\n",
    "Automatic Differentiation (AD) refers to the way to compute the derivative of a given equation automatically. It has a broad range of applications across many disciplines, such as engineering, statistics, computer science, and computational biology. For both students and researchers, it is essential for them to have tools in order to compute derivatives efficiently. Here, we propose a novel Python library, `Undefined`, to implement the AD on user defined numerical equations.\n",
    "\n",
    "One potential application would be calculating the derivatives in the direction of negative gradient to minimize the loss function when tune parameters in training gradient machine learning models. \n"
   ],
   "metadata": {}
  },
  {
   "cell_type": "markdown",
   "source": [
    "### Background\n",
    "\n",
    "As we learned in calculus classes, the traditional way to calculate derivatives is to calculate by hand and apply different rules, including power rule, product rule, chain rule, etc.\n",
    "\n",
    "Here is an example when we need to calculate derivative by using the chain rule. \n",
    "\n",
    "Suppose we have the gradients of the function defined as following:\n",
    "\n",
    "\n",
    "${f(x, y) = \\cos(5x + 7y)e^{-x}}$\n",
    "\n",
    "\n",
    "Assume we will calculate the partial derivative for x first, ${\\frac{\\partial f}{\\partial x}}$, we will apply the product rule first:\n",
    "\n",
    "${\\frac{\\partial f}{\\partial x} = \\cos(5x + 7y)(-e^{-x}) - 5 \\sin(5x + 7y)e^{-x}}$\n",
    "\n",
    "To simplify: \n",
    "\n",
    "${ \\frac{\\partial f}{\\partial x} = -e^{-x}(\\cos(5x+7y) + 5\\sin(5x+7y)) }$\n",
    "\n",
    "\n",
    "If we would have to calculate ${\\frac{\\partial f}{\\partial y}}$, we only need to use the chain rule:\n",
    "\n",
    "${ \\frac{\\partial f}{\\partial y} = -7\\sin(5x + 7y)e^{-x} }$\n",
    "\n",
    "\n",
    "We could constructure a computational graph for this equation. \n",
    "\n",
    "***(insert the graph here)***\n",
    "\n",
    "\n",
    "It sounds very easy, but it will become handy when we have to compute the derivative for complicated equations. \n",
    "\n",
    "\n",
    "There are many advantages of AD compared to other ways (numerical differentiation and symbolic differentiation) to calculate derivative automatically. One of the biggest advantage of AD is that AD calculates to machine precision and comsumes efficientively than the other two methods. "
   ],
   "metadata": {}
  },
  {
   "cell_type": "markdown",
   "source": [
    "### How to use `Undefined`\n",
    "\n",
    "***Tentative***\n",
    "\n",
    "`Undefined` provided esay installation by running this following command:\n",
    "\n",
    "` python -m pip install cs107-Undefined `\n",
    "\n",
    "Users should import the package by the following in their Python script:\n",
    "\n",
    "`import Undefined as ud`\n",
    "\n",
    "Once imported successfully, users can calculate the derivative of a given section by using the following commands:\n",
    "\n",
    "\n",
    "```\n",
    "func = x**2 + 5x - 6\n",
    "\n",
    "results = ud.derivative_cal(func, x = 3)\n",
    "\n",
    "print(results)\n",
    "\n",
    ">>> taking derivative...\n",
    ">>> 11\n",
    "```\n",
    "\n"
   ],
   "metadata": {}
  },
  {
   "cell_type": "markdown",
   "source": [
    "### Software Organization\n",
    "\n",
    "***Tentative***\n",
    "\n",
    "The directory structure will look like the following:\n",
    "\n",
    "```\n",
    "./Undefined\n",
    "├── ./Undefined/README.md\n",
    "├── ./Undefined/Codecov.yml\n",
    "├── ./Undefined/.travis.yml\n",
    "├── ./Undefined/Code\n",
    "│   └── ./Undefined/Code/Undefined.py\n",
    "├── ./Undefined/Test\n",
    "│   └── ./Undefined/Test/test.py\n",
    "└── ./Undefined/doc\n",
    "    └── ./Undefined/doc/Group1-milestone1\n",
    "```\n",
    "\n",
    "([link to the online file tree generator](https://tree.nathanfriend.io/?s=(%27options!(%27fancy!true~fullPath!true~trailingSlash!false~rootDot!false)~3(%273%272*README.md4cov.yml*.travis.yml4*025Test*0test5doc*0Group1-milestone1%27)~version!%271%27)*%5Cn00%20%202Undefined3source!4*Code5.py*%0154320*))\n",
    "\n",
    "\n",
    "We are planning to include one python file to include the codes for computing the derivative, and have another file with all the testing files. Both TravisCI and CodeCov will be used for testing suit monitoring, and the package will be uploaded to PyPI by following the instructions given in class. \n",
    "\n",
    "\n",
    "### Implementation\n",
    "\n",
    "\n",
    "We are planning on using `numpy` `math` models from Python, and use `pandas` to store information. They will help us to modify the general math operation when taking the derivatives. \n",
    "\n",
    "We are planning on overload the operators, including `__add__` `__sub__` `__mul__`, and  `__truediv__`\n",
    "\n"
   ],
   "metadata": {}
  },
  {
   "cell_type": "markdown",
   "source": [
    "### Licensing\n",
    "\n",
    "We will use the `MIT` license for open source software development so that other people who are interested in our software will have access to contribute. \n",
    "\n",
    "- Instinction for our choice: We want it simple and permissive.\n"
   ],
   "metadata": {}
  }
 ],
 "metadata": {
  "kernelspec": {
   "display_name": "Python 3",
   "language": "python",
   "name": "python3"
  },
  "language_info": {
   "codemirror_mode": {
    "name": "ipython",
    "version": 3
   },
   "file_extension": ".py",
   "mimetype": "text/x-python",
   "name": "python",
   "nbconvert_exporter": "python",
   "pygments_lexer": "ipython3",
   "version": "3.8.8"
  }
 },
 "nbformat": 4,
 "nbformat_minor": 5
}