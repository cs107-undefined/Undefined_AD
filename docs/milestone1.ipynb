{
 "cells": [
  {
   "cell_type": "markdown",
   "source": [
    "# Group 1 Milestone1 doc\n"
   ],
   "metadata": {}
  },
  {
   "cell_type": "markdown",
   "source": [
    "## 1. Introduction\n",
    "\n",
    "Automatic Differentiation (AD) refers to the way to compute the derivative of a given equation automatically. It has a broad range of applications across many disciplines, such as engineering, statistics, computer science, and computational biology. For both students and researchers, Auto Differentiation plays a vital role. Because it is essential for them to have tools computing derivatives efficiently given the amount of computational power needed, while facing the difficulty of converting a symbolic mathematical expression into a computer program data structure. Here, we propose a novel Python library, `undefined`, to solve this problem by implementing the AD on user defined numerical equations. \n",
    "\n",
    "One potential application would be calculating the derivatives in the direction of negative gradient to minimize the loss function when tune parameters in training gradient machine learning models. Compared with other solutions, `undefined` is easier to use, single task focused and more generalized.\n"
   ],
   "metadata": {}
  },
  {
   "cell_type": "markdown",
   "source": [
    "## 2. Background\n",
    "\n",
    "As we learned in calculus classes, the traditional way to calculate derivatives is to calculate by hand and apply different rules, including power rule, product rule, chain rule, etc.\n",
    "\n",
    "Here is an example when we need to calculate derivative by using the chain rule. \n",
    "\n",
    "### 2.1 Chain Rule Formula\n",
    "\n",
    "The general formula of the chain rule is shown as following:\n",
    "\n",
    "(1) Suppose we have a function $h(u(t))$:\n",
    "\n",
    "$$\\frac{dh}{dt} = \\frac{\\partial h}{\\partial u}\\frac{du}{dt}$$\n",
    "\n",
    "When we have multiple coordinates, the chain rule formula will change:\n",
    "\n",
    "(2) Suppose our formula is $h(u(t), v(t))$\n",
    "\n",
    "$$\\frac{dh}{dt} = \\frac{\\partial h}{\\partial u}\\frac{du}{dt} + \\frac{\\partial h}{\\partial v}\\frac{dv}{dt}$$\n",
    "\n",
    "\n",
    "\n",
    "### 2.2 Elementary Funciton\n",
    "\n",
    "(1) Unary elementary function examples: sin(x), cos(x)\n",
    "\n",
    "(2) Binary elemnetary function examples: x + y, x * y\n",
    "\n",
    "### 2.3 Computational Graph\n",
    "\n",
    "A computational graph is a directed graph where the nodes correspond to elementary functions or variables.\n",
    "\n",
    "Computational graph node for binary elementary funciton:\n",
    "\n",
    "![bg_computational_graph](resources/computational_graph_1.png)\n",
    "\n",
    "The computational graph grows once the computations become more complex:\n",
    "\n",
    "![bg_computational_graph](resources/computational_graph_2.png)\n",
    "\n",
    "### 2.4 Automatic Differencation\n",
    "\n",
    "Suppose we have the gradients of the function defined as following:\n",
    "\n",
    "\n",
    "${f(x, y) = \\cos(5x + 7y)e^{-x}}$\n",
    "\n",
    "\n",
    "Assume we will calculate the partial derivative for x first, ${\\frac{\\partial f}{\\partial x}}$, we will apply the product rule first:\n",
    "\n",
    "${\\frac{\\partial f}{\\partial x} = \\cos(5x + 7y)(-e^{-x}) - 5 \\sin(5x + 7y)e^{-x}}$\n",
    "\n",
    "To simplify: \n",
    "\n",
    "${ \\frac{\\partial f}{\\partial x} = -e^{-x}(\\cos(5x+7y) + 5\\sin(5x+7y)) }$\n",
    "\n",
    "\n",
    "If we would have to calculate ${\\frac{\\partial f}{\\partial y}}$, we only need to use the chain rule:\n",
    "\n",
    "${ \\frac{\\partial f}{\\partial y} = -7\\sin(5x + 7y)e^{-x} }$\n",
    "\n",
    "Computing this function is simple, but AD will become handy when we have to compute the derivative for complicated equations. \n",
    "\n",
    "There are many advantages of AD compared to other ways (numerical differentiation and symbolic differentiation) to calculate derivative automatically. One of the biggest advantage of AD is that AD calculates to machine precision and comsumes efficientively than the other two methods. "
   ],
   "metadata": {}
  },
  {
   "cell_type": "markdown",
   "source": [
    "## 3. How to use `undefined`\n",
    "\n",
    "***Tentative***\n",
    "\n",
    "`undefined` provided esay installation by running this following command:\n",
    "\n",
    "` python -m pip install cs107-undefined `\n",
    "\n",
    "Users should import the package by the following in their Python script:\n",
    "\n",
    "`import undefined as ud`\n",
    "\n",
    "Once imported successfully, users can calculate the derivative of a given section by using the following commands:"
   ],
   "metadata": {}
  },
  {
   "cell_type": "code",
   "execution_count": null,
   "source": [
    "# Do not run\n",
    "import undefined as ud\n",
    "\n",
    "func = lambda x :x**2 + 5x - 6\n",
    "\n",
    "# instantiate AD object\n",
    "results = ud.trace(func, x = 3)\n",
    "\n",
    "print(results)\n",
    "\n",
    ">>> taking derivative...\n",
    ">>> 11"
   ],
   "outputs": [],
   "metadata": {
    "collapsed": true
   }
  },
  {
   "cell_type": "markdown",
   "source": [
    "More specifically, user can choose to perform auto differenciation in both forward mode and reverse mode.\n",
    "\n",
    "**(1) Forward mode**\n",
    "\n",
    "For the basic functionality, we will develop a function called `trace`, which will intake a user defined function and return the derivatives of the function. Note: our default is to use **forward** mode. \n",
    "\n",
    "Here, we showed a demo with $\\mathbb{R}$ -> $\\mathbb{R}$"
   ],
   "metadata": {}
  },
  {
   "cell_type": "code",
   "execution_count": null,
   "source": [
    "# Do not run\n",
    "# R -> R implementation\n",
    "# import module\n",
    "import undefined as ud\n",
    "\n",
    "# user defined function\n",
    "f = lambda x: x - np.exp(-2.0 * np.sin(4.0 * x) * np.sin(4.0 * x))\n",
    "\n",
    "# call the trace function in undefined, and provide input x = 2\n",
    "ud.trace(f, x = 2)\n",
    "\n",
    "# the function will return the 1st derivative when x=2.\n",
    ">>> taking derivative...\n",
    ">>> 0.674811"
   ],
   "outputs": [],
   "metadata": {}
  },
  {
   "cell_type": "markdown",
   "source": [
    "The `trace` function can also handle multiple dimensional calculation. Assume we need to calculate $\\mathbb{R}^m$ -> $\\mathbb{R}$, we will input the values for ${x}_1$ and ${x}_2$. \n"
   ],
   "metadata": {}
  },
  {
   "cell_type": "code",
   "execution_count": null,
   "source": [
    "# Do not run\n",
    "# user defined function\n",
    "f = x*y + np.exp(x*y)\n",
    "\n",
    "# call the trace function in undefined, and provide input x1 = 1 and x2 = 2\n",
    "nd.trace(f, [1, 2])\n",
    "\n",
    "# the function will return the 1st derivative when x1 = 1 and x2 = 2.\n",
    ">>> taking derivative...\n",
    ">>> [16.7781, 8.3891]"
   ],
   "outputs": [],
   "metadata": {}
  },
  {
   "cell_type": "markdown",
   "source": [
    "Our function will handle other multiple dimensional calculations, including $\\mathbb{R}$ -> $\\mathbb{R}^n$, $\\mathbb{R}^m$ -> $\\mathbb{R}^n$. The difference will be the number of input values. \n",
    "\n",
    "**(2) Reverse mode**\n",
    "\n",
    "The `trace` function will also be able to calculate derivatives in reverse mode by specifying the `mode` parameters. Take the example below as a demo\n"
   ],
   "metadata": {}
  },
  {
   "cell_type": "code",
   "execution_count": null,
   "source": [
    "\n",
    "# user defined function\n",
    "f = lambda x: x - np.exp(-2.0 * np.sin(4.0 * x) * np.sin(4.0 * x))\n",
    "\n",
    "# call the trace function in undefined, and provide input x = 2\n",
    "nd.trace(f, x = 2, mode = 'reverse')\n",
    "\n",
    "# the function will return the 1st derivative when x=2.\n",
    ">>> taking derivative...\n",
    ">>> 0.674811"
   ],
   "outputs": [],
   "metadata": {}
  },
  {
   "cell_type": "markdown",
   "source": [
    "## 4. Software Organization\n",
    "\n",
    "***Tentative***\n",
    "\n",
    "The directory structure will look like the following:\n",
    "\n",
    "```\n",
    "./undefined\n",
    "├── ./undefined/README.md\n",
    "├── ./undefined/Codecov.yml\n",
    "├── ./undefined/.travis.yml\n",
    "├── ./undefined/src\n",
    "│   └── ./undefined/src/undefined\n",
    "│       ├── ./undefined/src/undefined/__main__.py\n",
    "│       └── ./undefined/src/undefined/__init__.py\n",
    "│       └── ./undefined/src/undefined/API.py\n",
    "│       └── ./undefined/src/undefined/UDFunction.py\n",
    "│       └── ./undefined/src/undefined/Parser.py\n",
    "│       └── ./undefined/src/undefined/Calculator.py\n",
    "│       └── ./undefined/src/undefined/GraphGenerator.py\n",
    "├── ./undefined/test\n",
    "│   └── ./undefined/test/test.py\n",
    "│   └── ./undefined/test/other_test_scripts\n",
    "└── ./undefined/docs\n",
    "    └── ./undefined/docs/milestone1\n",
    "```\n",
    "\n",
    "<p style=\"color: red\">We are planning on using <b>numpy</b>, <b>math</b> models from Python, and use <b>pandas</b>, <b>matplotlib</b> to store information.</p>\n",
    "\n",
    "<p style=\"color: red\">We will follow the PEP257 guidelines on documenting the functionality of our codes. We decide not to use existing python frameworks, but we will build and release our own package conforming to PEP517/518.</p>\n"
   ],
   "metadata": {}
  },
  {
   "cell_type": "markdown",
   "source": [
    "## 5. Implementation"
   ],
   "metadata": {}
  },
  {
   "cell_type": "markdown",
   "source": [
    "### 5.1 Core Data Structure\n",
    "\n",
    "**UDFunction** is the core data structure in our library returning the derivative of a user defined function $f$.\n",
    "\n",
    "The UDFunction contains the value and derivative of the user defined function $f$, and can be used easily to perform basic calculations such as addition, multiplication, etc.\n",
    "\n",
    "We will use `numpy.ndarray` as our core data structures to store values. For the derivatives, we will also use `numpy.ndarray` and `dictionary` to store the intermediate values from derivatives for calculation and visualization purposes. We will use a self defined graph structure to store and visualize the computational graphs. \n",
    "\n"
   ],
   "metadata": {}
  },
  {
   "cell_type": "markdown",
   "source": [
    "### 5.2 Classes"
   ],
   "metadata": {}
  },
  {
   "cell_type": "markdown",
   "source": [
    "**API.py:**\n",
    "\n",
    "This class contains methods that can be called by the users. Such as `ud.trace()`\n",
    "\n",
    "| Method                                 | Description                                                                                                  |\n",
    "|----------------------------------------|--------------------------------------------------------------------------------------------------------------|\n",
    "| trace(lambda_function, mode='forward') | Given a user defined function, calculate the derivative using auto differentiation. Both vector functions and scaler functions are supported. Default mode is forward. |"
   ],
   "metadata": {}
  },
  {
   "cell_type": "markdown",
   "source": [
    "**UDFunction:**\n",
    "\n",
    "This class wraps the core data structure in our library. Objects instantiated from this class are the most basic computing units in our library.\n",
    "\n",
    "- Name Attributes:\n",
    "\n",
    "| Name Attribute | Description                                         |\n",
    "|----------------|-----------------------------------------------------|\n",
    "| values         | values of a elementary function                     |\n",
    "| derivatives    | derivatives of a elementary function                |\n",
    "| shape          | a tuple that declares the shape of values attribute |\n",
    "\n",
    "- Methods (overload operators):\n",
    "\n",
    "| Method                | Description                        |\n",
    "|-----------------------|------------------------------------|\n",
    "| getters and setters   | getters and setters for attributes |\n",
    "| \\_\\_add__(self, other)  | add values from object: other      |\n",
    "| \\_\\_radd__(self, other) | add values from object: other      |\n",
    "| \\_\\_mul__(self, other)  | multiply values from object: other |\n",
    "| \\_\\_rmul__(self, other) | multiply values from object: other |\n",
    "| constructor           |                                    |"
   ],
   "metadata": {}
  },
  {
   "cell_type": "markdown",
   "source": [
    "**Parser:**\n",
    "\n",
    "This class is used to evaluate the user defined function `f` and parse it into a UDFunction class which is defined and implemented by our library.\n",
    "\n",
    "- Methods:\n",
    "\n",
    "| Method                    | Description                                                                                                    |\n",
    "|---------------------------|----------------------------------------------------------------------------------------------------------------|\n",
    "| evaluate(lambda_function) | break down the user defined function in to a list of elementary functions, then construct a UDFunction object. |\n",
    "| parse(UDFunction)         | parse UDFunction object into the a descriptive string                                                          |"
   ],
   "metadata": {}
  },
  {
   "cell_type": "markdown",
   "source": [
    "**Calculator:**\n",
    "\n",
    "This class contains util functions to perform elementary functions calculation on UDFunction such as $sin$, $sqrt$, $log$, $exp$, which cannot be implemented by overloaded functions in UDFunction.\n",
    "\n",
    "\n",
    "| Method                | Description                                             |\n",
    "|-----------------------|---------------------------------------------------------|\n",
    "| cos(UDFunction)       | calculate cos value of a UDFunction                     |\n",
    "| sin(UDFunction)       | parse UDFunction object into the a descriptive string   |\n",
    "| tan(UDFunction)       | is calculated using sin(UDFunction) and cos(UDFunction) |\n",
    "| sqrt(UDFunction)      | square root performed on UDFunction                     |\n",
    "| exp(UDFunction)       | exponential performed on UDFunction                     |\n",
    "| log(UDFunction, base) | logarithms of base: base                                |"
   ],
   "metadata": {}
  },
  {
   "cell_type": "markdown",
   "source": [
    "**GraphGenerator:**\n",
    "\n",
    "This class contains util functions to generate computation graphs for a given UDFunction that is transformed from user defined function.\n",
    "\n",
    "| Method                     | Description                                                             |\n",
    "|----------------------------|-------------------------------------------------------------------------|\n",
    "| generate(UDFunction, mode) | generate the computational graph either of forward mode or reverse mode |"
   ],
   "metadata": {}
  },
  {
   "cell_type": "markdown",
   "source": [
    "**Utils:**\n",
    "\n",
    "This class contains all other utils that are needed in the library, such as timing methods, etc.\n",
    "\n",
    "| Method           | Description                             |\n",
    "|------------------|-----------------------------------------|\n",
    "| time(operation)  | calculate the time of a operation       |\n",
    "| log(information) | library log of some informative strings |"
   ],
   "metadata": {}
  },
  {
   "cell_type": "markdown",
   "source": [
    "### 5.3 External Dependencies\n",
    "\n",
    "We are planning to include one python file to include the codes for computing the derivative, and have another file with all the testing files. Both `TravisCI` and `CodeCov` will be used for testing suit monitoring, and the package will be uploaded to `PyPI` by following the instructions given in class. \n",
    "\n",
    "<p style=\"color:red\">We will use the <b>NetworkX</b> package for constructing the visualization for the computational graph.</p>\n",
    "\n"
   ],
   "metadata": {}
  },
  {
   "cell_type": "markdown",
   "source": [
    "## 6. Licensing\n",
    "\n",
    "We will use the `MIT` license for open source software development so that other people who are interested in our software will have access to contribute. \n",
    "\n",
    "- Instinction for our choice: We want it to be simple and permissive.\n",
    "- Under the `MIT` license, anyone can contribute to this project by adding functionality, debug, or customerize it to meet their needs. \n"
   ],
   "metadata": {}
  },
  {
   "cell_type": "markdown",
   "source": [
    "<style>\n",
    "H5{color:DarkOrange !important;}\n",
    "</style>\n",
    "#### Milestone 1 feedback\n",
    "\n",
    "1.75/2 Software Organization\n",
    "Will you use a framework? If so, which one and why? If not, why not?\n",
    "Please move discussion on what external dependencies you will rely on to the implementation section and explain why you would like to include them. \n",
    "\n",
    "3.75/4 Implementation\n",
    "Classes and methods are very well thought-through. \n",
    "What core data structures will you use? How will you store the derivatives? will you use the dictionary, list or some other data structures? \n",
    "\n",
    "##### We thank the TF for the helpful feedbacks. We addressed the feedbacks mentioned in the comments with texts in each respected section.</div>"
   ],
   "metadata": {}
  }
 ],
 "metadata": {
  "kernelspec": {
   "name": "python3",
   "display_name": "Python 3.9.6 64-bit"
  },
  "language_info": {
   "codemirror_mode": {
    "name": "ipython",
    "version": 3
   },
   "file_extension": ".py",
   "mimetype": "text/x-python",
   "name": "python",
   "nbconvert_exporter": "python",
   "pygments_lexer": "ipython3",
   "version": "3.9.6"
  },
  "interpreter": {
   "hash": "aee8b7b246df8f9039afb4144a1f6fd8d2ca17a180786b69acc140d282b71a49"
  }
 },
 "nbformat": 4,
 "nbformat_minor": 5
}