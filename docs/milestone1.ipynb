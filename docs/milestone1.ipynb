{
 "cells": [
  {
   "cell_type": "markdown",
   "id": "d14bc049",
   "metadata": {},
   "source": [
    "## Group 1 Milestone1 doc\n"
   ]
  },
  {
   "cell_type": "markdown",
   "id": "95163250",
   "metadata": {},
   "source": [
    "### Introduction\n",
    "\n",
    "Automatic Differentiation (AD) refers to the way to compute the derivative of a given equation automatically. It has a broad range of applications across many disciplines, such as engineering, statistics, computer science, and computational biology. For both students and researchers, it is essential for them to have tools in order to compute derivatives efficiently, given the amount of computational power needed. Here, we propose a novel Python library, `Undefined`, to implement the AD on user defined numerical equations.\n",
    "\n",
    "One potential application would be calculating the derivatives in the direction of negative gradient to minimize the loss function when tune parameters in training gradient machine learning models. \n"
   ]
  },
  {
   "cell_type": "markdown",
   "id": "0f51d713",
   "metadata": {},
   "source": [
    "### Background\n",
    "\n",
    "As we learned in calculus classes, the traditional way to calculate derivatives is to calculate by hand and apply different rules, including power rule, product rule, chain rule, etc.\n",
    "\n",
    "Here is an example when we need to calculate derivative by using the chain rule. \n",
    "\n",
    "**TODO: add the chain rule formula**\n",
    "\n",
    "Suppose we have the gradients of the function defined as following:\n",
    "\n",
    "\n",
    "${f(x, y) = \\cos(5x + 7y)e^{-x}}$\n",
    "\n",
    "\n",
    "Assume we will calculate the partial derivative for x first, ${\\frac{\\partial f}{\\partial x}}$, we will apply the product rule first:\n",
    "\n",
    "${\\frac{\\partial f}{\\partial x} = \\cos(5x + 7y)(-e^{-x}) - 5 \\sin(5x + 7y)e^{-x}}$\n",
    "\n",
    "To simplify: \n",
    "\n",
    "${ \\frac{\\partial f}{\\partial x} = -e^{-x}(\\cos(5x+7y) + 5\\sin(5x+7y)) }$\n",
    "\n",
    "\n",
    "If we would have to calculate ${\\frac{\\partial f}{\\partial y}}$, we only need to use the chain rule:\n",
    "\n",
    "${ \\frac{\\partial f}{\\partial y} = -7\\sin(5x + 7y)e^{-x} }$\n",
    "\n",
    "\n",
    "We could constructure a computational graph for this equation. See the following graph\n",
    "\n",
    "\n",
    "![bg_computational_graph](bg_computational_graph.jpeg)\n",
    "\n",
    "\n",
    "Computing this function is simple, but AD will become handy when we have to compute the derivative for complicated equations. \n",
    "\n",
    "\n",
    "There are many advantages of AD compared to other ways (numerical differentiation and symbolic differentiation) to calculate derivative automatically. One of the biggest advantage of AD is that AD calculates to machine precision and comsumes efficientively than the other two methods. \n",
    "\n",
    "**TODO: Big O notation**"
   ]
  },
  {
   "cell_type": "markdown",
   "id": "18d06483",
   "metadata": {},
   "source": [
    "### How to use `Undefined`\n",
    "\n",
    "***Tentative***\n",
    "\n",
    "`Undefined` provided esay installation by running this following command:\n",
    "\n",
    "` python -m pip install cs107-Undefined `\n",
    "\n",
    "Users should import the package by the following in their Python script:\n",
    "\n",
    "`import Undefined as ud`\n",
    "\n",
    "Once imported successfully, users can calculate the derivative of a given section by using the following commands:\n",
    "\n"
   ]
  },
  {
   "cell_type": "code",
   "execution_count": 1,
   "id": "33478378",
   "metadata": {
    "collapsed": true
   },
   "outputs": [
    {
     "ename": "SyntaxError",
     "evalue": "invalid syntax (<ipython-input-1-7f5e04d6b26d>, line 1)",
     "output_type": "error",
     "traceback": [
      "\u001b[0;36m  File \u001b[0;32m\"<ipython-input-1-7f5e04d6b26d>\"\u001b[0;36m, line \u001b[0;32m1\u001b[0m\n\u001b[0;31m    func = x**2 + 5x - 6\u001b[0m\n\u001b[0m                   ^\u001b[0m\n\u001b[0;31mSyntaxError\u001b[0m\u001b[0;31m:\u001b[0m invalid syntax\n"
     ]
    }
   ],
   "source": [
    "# Do not run\n",
    "import Undefined as ud\n",
    "\n",
    "func = lambda x :x**2 + 5x - 6\n",
    "\n",
    "# instantiate AD object\n",
    "results = ud.trace(func, x = 3)\n",
    "\n",
    "print(results)\n",
    "\n",
    ">>> taking derivative...\n",
    ">>> 11"
   ]
  },
  {
   "cell_type": "markdown",
   "id": "1f03177e",
   "metadata": {},
   "source": [
    "### Software Organization\n",
    "\n",
    "***Tentative***\n",
    "\n",
    "The directory structure will look like the following:\n",
    "\n",
    "```\n",
    "./undefined\n",
    "├── ./undefined/README.md\n",
    "├── ./undefined/Codecov.yml\n",
    "├── ./undefined/.travis.yml\n",
    "├── ./undefined/src\n",
    "│   └── ./undefined/src/undefined\n",
    "│       ├── ./undefined/src/undefined/__main__.py\n",
    "│       └── ./undefined/src/undefined/__init__.py\n",
    "├── ./undefined/test\n",
    "│   └── ./undefined/test/test.py\n",
    "└── ./undefined/docs\n",
    "    └── ./undefined/docs/milestone1\n",
    "```\n",
    "\n",
    "([link to the online file tree generator](https://tree.nathanfriend.io/?s=(%27options!(%27fancy!true~fullPath!true~trailingSlash!false~rootDot!false)~3(%273%272*README.md4cov.yml*.travis.yml4*025Test*0test5doc*0Group1-milestone1%27)~version!%271%27)*%5Cn00%20%202Undefined3source!4*Code5.py*%0154320*))\n",
    "\n",
    "We are planning on using `numpy` `math` models from Python, and use `pandas` to store information.\n",
    "\n",
    "We are planning to include one python file to include the codes for computing the derivative, and have another file with all the testing files. Both `TravisCI` and `CodeCov` will be used for testing suit monitoring, and the package will be uploaded to `PyPI` by following the instructions given in class. \n"
   ]
  },
  {
   "cell_type": "markdown",
   "id": "c52f3f23",
   "metadata": {},
   "source": [
    "### Implementation\n",
    "\n",
    "\n",
    "The Python libraries mentioned above will help us to modify the general math operation when taking the derivatives. \n",
    "\n",
    "**Forward mode**\n",
    "\n",
    "For the basic functionality, we will develop a function called `trace`, which will intake a user defined function and return the derivatives of the function. Note: our default is to use **forward** mode. \n",
    "\n",
    "Here, we showed a demo with $\\mathbb{R}$ -> $\\mathbb{R}$\n"
   ]
  },
  {
   "cell_type": "code",
   "execution_count": null,
   "id": "f935e751",
   "metadata": {},
   "outputs": [],
   "source": [
    "# R -> R implementation\n",
    "# import module\n",
    "import Undefined as nd\n",
    "\n",
    "# user defined function\n",
    "f = lambda x: x - np.exp(-2.0 * np.sin(4.0 * x) * np.sin(4.0 * x))\n",
    "\n",
    "# call the trace function in undefined, and provide input x = 2\n",
    "nd.trace(f, x = 2)\n",
    "\n",
    "# the function will return the 1st derivative when x=2.\n",
    ">>> taking derivative...\n",
    ">>> 0.674811"
   ]
  },
  {
   "cell_type": "markdown",
   "id": "155eb82d",
   "metadata": {},
   "source": [
    "The `trace` function can also handle multiple dimensional calculation. Assume we need to calculate $\\mathbb{R}^m$ -> $\\mathbb{R}$, we will input the values for ${x}_1$ and ${x}_2$. \n"
   ]
  },
  {
   "cell_type": "code",
   "execution_count": null,
   "id": "c6fb33a4",
   "metadata": {},
   "outputs": [],
   "source": [
    "# user defined function\n",
    "f = x*y + np.exp(x*y)\n",
    "\n",
    "# call the trace function in undefined, and provide input x1 = 1 and x2 = 2\n",
    "nd.trace(f, [1, 2])\n",
    "\n",
    "# the function will return the 1st derivative when x1 = 1 and x2 = 2.\n",
    ">>> taking derivative...\n",
    ">>> [16.7781, 8.3891]"
   ]
  },
  {
   "cell_type": "markdown",
   "id": "c70b463b",
   "metadata": {},
   "source": [
    "Our function will handle other multiple dimensional calculations, including $\\mathbb{R}$ -> $\\mathbb{R}^n$, $\\mathbb{R}^m$ -> $\\mathbb{R}^n$. The difference will be the number of input values. \n",
    "\n",
    "**Reverse mode**\n",
    "\n",
    "The `trace` function will also be able to calculate derivatives in reverse mode by specifying the `mode` parameters. Take the example below as a demo\n"
   ]
  },
  {
   "cell_type": "code",
   "execution_count": null,
   "id": "22665a7b",
   "metadata": {},
   "outputs": [],
   "source": [
    "\n",
    "# user defined function\n",
    "f = lambda x: x - np.exp(-2.0 * np.sin(4.0 * x) * np.sin(4.0 * x))\n",
    "\n",
    "# call the trace function in undefined, and provide input x = 2\n",
    "nd.trace(f, x = 2, mode = 'reverse')\n",
    "\n",
    "# the function will return the 1st derivative when x=2.\n",
    ">>> taking derivative...\n",
    ">>> 0.674811"
   ]
  },
  {
   "cell_type": "markdown",
   "id": "e0437511",
   "metadata": {},
   "source": [
    "The results should be the same as in the forward method calculation\n",
    "\n",
    "We are planning on overload the operators, including `__add__` `__sub__` `__mul__`, and  `__truediv__`\n",
    "\n",
    "For the trigonometric (`sin`, `cos`, `tan`), exponential (`exp`) and logarithmic (`log`) functions, we are planning to overload them as it will be different when calculate with dual numbers.  \n",
    "\n",
    "\n",
    "Lastly, users can also use a provided function (`undefined_plot`) to visualize the original function and derivatives results. "
   ]
  },
  {
   "cell_type": "markdown",
   "id": "fa9217e9",
   "metadata": {},
   "source": [
    "#### Details on implementation"
   ]
  },
  {
   "cell_type": "markdown",
   "id": "960f71a6",
   "metadata": {},
   "source": [
    "### Licensing\n",
    "\n",
    "We will use the `MIT` license for open source software development so that other people who are interested in our software will have access to contribute. \n",
    "\n",
    "- Instinction for our choice: We want it to be simple and permissive.\n",
    "- Under the `MIT` license, anyone can contribute to this project by adding functionality, debug, or customerize it to meet their needs. \n"
   ]
  }
 ],
 "metadata": {
  "kernelspec": {
   "display_name": "Python 3",
   "language": "python",
   "name": "python3"
  },
  "language_info": {
   "codemirror_mode": {
    "name": "ipython",
    "version": 3
   },
   "file_extension": ".py",
   "mimetype": "text/x-python",
   "name": "python",
   "nbconvert_exporter": "python",
   "pygments_lexer": "ipython3",
   "version": "3.8.8"
  }
 },
 "nbformat": 4,
 "nbformat_minor": 5
}
