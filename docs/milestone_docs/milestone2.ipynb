{
 "cells": [
  {
   "cell_type": "markdown",
   "id": "efa604bd",
   "metadata": {},
   "source": [
    "# Group 1 Milestone2 doc\n"
   ]
  },
  {
   "cell_type": "markdown",
   "id": "f7a31945",
   "metadata": {},
   "source": [
    "## 1. Introduction\n",
    "\n",
    "Automatic Differentiation (AD) refers to the way to compute the derivative of a given equation automatically. It has a broad range of applications across many disciplines, such as engineering, statistics, computer science, and computational biology. For both students and researchers, it is essential for them to have tools in order to compute derivatives efficiently, given the amount of computational power needed. Here, we propose a novel Python library, `undefined`, to implement the AD on user defined numerical equations.\n",
    "\n",
    "One potential application would be calculating the derivatives in the direction of negative gradient to minimize the loss function when tune parameters in training gradient machine learning models. \n"
   ]
  },
  {
   "cell_type": "markdown",
   "id": "dec2e3cd",
   "metadata": {},
   "source": [
    "## 2. Background\n",
    "\n",
    "As we learned in calculus classes, the traditional way to calculate derivatives is to calculate by hand and apply different rules, including power rule, product rule, chain rule, etc.\n",
    "\n",
    "Here is an example when we need to calculate derivative by using the chain rule. \n",
    "\n",
    "### 2.1 Chain Rule Formula\n",
    "\n",
    "The general formula of the chain rule is shown as following:\n",
    "\n",
    "(1) Suppose we have a function $h(u(t))$:\n",
    "\n",
    "$$\\frac{dh}{dt} = \\frac{\\partial h}{\\partial u}\\frac{du}{dt}$$\n",
    "\n",
    "When we have multiple coordinates, the chain rule formula will change:\n",
    "\n",
    "(2) Suppose our formula is $h(u(t), v(t))$\n",
    "\n",
    "$$\\frac{dh}{dt} = \\frac{\\partial h}{\\partial u}\\frac{du}{dt} + \\frac{\\partial h}{\\partial v}\\frac{dv}{dt}$$\n",
    "\n",
    "\n",
    "\n",
    "### 2.2 Elementary Funciton\n",
    "\n",
    "(1) Unary elementary function examples: sin(x), cos(x)\n",
    "\n",
    "(2) Binary elemnetary function examples: x + y, x * y\n",
    "\n",
    "### 2.3 Computational Graph\n",
    "\n",
    "A computational graph is a directed graph where the nodes correspond to elementary functions or variables.\n",
    "\n",
    "Computational graph node for binary elementary funciton:\n",
    "\n",
    "![bg_computational_graph](../resources/computational_graph_1.png)\n",
    "\n",
    "The computational graph grows once the computations become more complex:\n",
    "\n",
    "![bg_computational_graph](../resources/computational_graph_2.png)\n",
    "\n",
    "### 2.4 Automatic Differencation\n",
    "\n",
    "Suppose we have the gradients of the function defined as following:\n",
    "\n",
    "\n",
    "${f(x, y) = \\cos(5x + 7y)e^{-x}}$\n",
    "\n",
    "\n",
    "Assume we will calculate the partial derivative for x first, ${\\frac{\\partial f}{\\partial x}}$, we will apply the product rule first:\n",
    "\n",
    "${\\frac{\\partial f}{\\partial x} = \\cos(5x + 7y)(-e^{-x}) - 5 \\sin(5x + 7y)e^{-x}}$\n",
    "\n",
    "To simplify: \n",
    "\n",
    "${ \\frac{\\partial f}{\\partial x} = -e^{-x}(\\cos(5x+7y) + 5\\sin(5x+7y)) }$\n",
    "\n",
    "\n",
    "If we would have to calculate ${\\frac{\\partial f}{\\partial y}}$, we only need to use the chain rule:\n",
    "\n",
    "${ \\frac{\\partial f}{\\partial y} = -7\\sin(5x + 7y)e^{-x} }$\n",
    "\n",
    "Computing this function is simple, but AD will become handy when we have to compute the derivative for complicated equations. \n",
    "\n",
    "There are many advantages of AD compared to other ways (numerical differentiation and symbolic differentiation) to calculate derivative automatically. One of the biggest advantage of AD is that AD calculates to machine precision and comsumes efficientively than the other two methods. "
   ]
  },
  {
   "cell_type": "markdown",
   "id": "35f5fa25",
   "metadata": {},
   "source": [
    "## 3. How to use `undefined`\n",
    "\n",
    "***Tentative***\n",
    "\n",
    "This is the recommended usage. The users can interact with the package at their discretion. \n",
    "\n",
    "Download our wheel file (`undefined-1.0.0-py3-none-any.whl`) from the Github page. [Link](https://github.com/cs107-undefined/cs107-FinalProject/releases/tag/v1.0.0)\n",
    "And save the file into your working directory.\n",
    "\n",
    "Then, `undefined` provided esay installation by running this following command (Assuming your current directory is the working directory, which contains the wheel file):\n",
    "\n",
    "`pip install undefined-1.0.0-py3-none-any.whl`\n",
    "\n",
    "Users should import the package by the following in their Python script:\n",
    "\n",
    "`from undefined.API import trace`\n",
    "\n",
    "Also, if the users are planning to use the exponential and trig functions, they should do `from undefined.Calculator import sin, cos, tan, exp, log, sqrt`\n",
    "\n",
    "**Note:** Our package will not work with the functions in other libraries, such as np.sin.\n",
    "\n",
    "Once imported successfully, users can calculate the derivative of a given function by using the syntax from the section below. "
   ]
  },
  {
   "cell_type": "markdown",
   "id": "7989552a",
   "metadata": {},
   "source": [
    "More specifically, users can choose to perform auto differenciation in both forward and reverse mode.\n",
    "\n",
    "**(1) Forward mode**\n",
    "\n",
    "The `trace` function will calculate the derivative, which will intake a user defined function using `lambda`, the mode (default is **forward** mode), and associated values. The `trace` function will return the derivatives of the function.\n",
    "\n",
    "Here, we showed a demo with $\\mathbb{R}$ -> $\\mathbb{R}$\n",
    "\n",
    "***Note:***\n",
    "In our design, the users do not need to instantiate an `undefined` object. They can just develop the function using Python build-in `lambda`."
   ]
  },
  {
   "cell_type": "code",
   "execution_count": null,
   "id": "c4bb119c",
   "metadata": {},
   "outputs": [],
   "source": [
    "# R -> R implementation\n",
    "# assuming undefined has been installed. \n",
    "\n",
    "from undefined.API import trace\n",
    "from undefined.Calculator import sin, cos, exp, log, sqrt\n",
    "\n",
    "# define the user input function using lambda\n",
    "f1 = lambda x, y: sqrt(exp(x*y)) + 1\n",
    "\n",
    "# calculate the derivative when x = 2 and y = 1 for the input function\n",
    "output_f1 = trace(f1, x = 2, y = 1)\n",
    "\n",
    "# print out the forward mode derivative\n",
    "print(output_f1)\n",
    "\n",
    "# output summary results for f1\n",
    ">>>value: 3.72\n",
    ">>>derivative: [1.359 2.718]\n"
   ]
  },
  {
   "cell_type": "markdown",
   "id": "90920bee",
   "metadata": {},
   "source": [
    "The users can also access the Jacobian results by using the `val` for the function value and `der` for the function's derivative value(s)"
   ]
  },
  {
   "cell_type": "code",
   "execution_count": null,
   "id": "c4510579",
   "metadata": {},
   "outputs": [],
   "source": [
    "# use val to access the function value\n",
    "print(output_f1.val)\n",
    ">>>3.72\n",
    "\n",
    "# use der to access the derivative value of the function\n",
    ">>>array([1.359, 2.718])"
   ]
  },
  {
   "cell_type": "markdown",
   "id": "0207580c",
   "metadata": {},
   "source": [
    "The `trace` function can also handle multiple dimensional calculation. Assume we need to calculate $\\mathbb{R}^m$ -> $\\mathbb{R}$, we will input the values for ${x}$ and ${y}$. \n"
   ]
  },
  {
   "cell_type": "code",
   "execution_count": null,
   "id": "41ade4a8",
   "metadata": {},
   "outputs": [],
   "source": [
    "\n",
    "from undefined.API import trace\n",
    "from undefined.Calculator import sqrt\n",
    "\n",
    "# user defined function\n",
    "f = lambda x, y: 2*x + sqrt(y)\n",
    "\n",
    "# call the trace function in undefined, and provide input x = 1 and y = 4\n",
    "print(trace(f, x = 2, y = 4))\n",
    "\n",
    "# the function will return the 1st derivative when x = 1 and y = 4.\n",
    ">>> value: 6.0 \n",
    ">>> derivative: [2.   0.25]"
   ]
  },
  {
   "cell_type": "markdown",
   "id": "b1ebddb8",
   "metadata": {},
   "source": [
    "Our function will handle other multiple dimensional calculations, including $\\mathbb{R}$ -> $\\mathbb{R}^n$, $\\mathbb{R}^m$ -> $\\mathbb{R}^n$. The difference will be the number of input values. \n",
    "\n",
    "**(2) Reverse mode (Future Implementation)**\n",
    "\n",
    "The `trace` function will also be able to calculate derivatives in reverse mode by specifying the `mode` parameters. Take the example below as a demo\n"
   ]
  },
  {
   "cell_type": "markdown",
   "id": "519205b8",
   "metadata": {},
   "source": [
    "## 4. Software Organization\n",
    "\n",
    "***Tentative***\n",
    "\n",
    "The directory structure will look like the following:\n",
    "\n",
    "```\n",
    ".\n",
    "├── LICENSE\n",
    "├── README.md\n",
    "├── __init__.py\n",
    "├── codecov.yml\n",
    "├── dist\n",
    "│   ├── undefined-1.0.0-py3-none-any.whl\n",
    "│   └── undefined-1.0.0.tar.gz\n",
    "├── docs\n",
    "│   ├── README.md\n",
    "│   ├── milestone1.ipynb\n",
    "│   ├── milestone2.ipynb\n",
    "│   ├── milestone2_progress.ipynb\n",
    "│   └── resources\n",
    "│       ├── computational_graph_1.png\n",
    "│       └── computational_graph_2.png\n",
    "├── pyproject.toml\n",
    "├── requirements.txt\n",
    "├── setup.cfg\n",
    "├── src\n",
    "│   ├── undefined\n",
    "│   │   ├── API.py\n",
    "│   │   ├── Calculator.py\n",
    "│   │   ├── GraphGenerator.py\n",
    "│   │   ├── Parser.py\n",
    "│   │   ├── UDFunction.py\n",
    "│   │   ├── Utils.py\n",
    "│   │   ├── __init__.py\n",
    "│   │   ├── __main__.py\n",
    "│   │   └── __pycache__\n",
    "│   │       ├── API.cpython-38.pyc\n",
    "│   │       ├── Calculator.cpython-38.pyc\n",
    "│   │       ├── UDFunction.cpython-38.pyc\n",
    "│   │       └── __init__.cpython-38.pyc\n",
    "│   └── undefined.egg-info\n",
    "│       ├── PKG-INFO\n",
    "│       ├── SOURCES.txt\n",
    "│       ├── dependency_links.txt\n",
    "│       ├── requires.txt\n",
    "│       └── top_level.txt\n",
    "└── test\n",
    "    ├── __init__.py\n",
    "    ├── __main__.py\n",
    "    ├── __pycache__\n",
    "    │   ├── __init__.cpython-38.pyc\n",
    "    │   ├── test_API.cpython-38.pyc\n",
    "    │   ├── test_Calculator.cpython-38.pyc\n",
    "    │   └── test_UDFunction.cpython-38.pyc\n",
    "    ├── run_tests.sh\n",
    "    ├── test_API.py\n",
    "    ├── test_Calculator.py\n",
    "    └── test_UDFunction.py\n",
    "```\n",
    "\n",
    "Both `TravisCI` and `CodeCov` will be used for testing suit monitoring, and the package will be uploaded to `PyPI` by following the instructions given in class.\n",
    "\n",
    "`src` folder is where we house our core modules, which include the following:\n",
    "\n",
    "    - `UDFunction`: We overload the operators in this file, such as `__add__`.\n",
    "    - `Calculator`: We defined the calculation of `sin`, `cos`, `tan`, `sqrt`, and `exp`. \n",
    "    - `API`: We defined the `trace` function here to wrap all the calculation required for the users defined function. \n",
    "\n",
    "We will develop the `Parse`, `GraphGenerator`, and `Utils` for the final deliverable. \n",
    "    \n",
    "`test` folder is where we house our test suits, which contains a test file for each python files inside the `src` folder. \n",
    "\n",
    "We developed a bash script to run all the tests. You can test them by using the following examples:\n",
    "\n",
    "Assuming your current directory is the `undefined` root directory\n"
   ]
  },
  {
   "cell_type": "code",
   "execution_count": null,
   "id": "247de2b3",
   "metadata": {},
   "outputs": [],
   "source": [
    "# run test suits in your command line terminal\n",
    "bash test/run_tests.sh coverage"
   ]
  },
  {
   "cell_type": "markdown",
   "id": "a94f0bcf",
   "metadata": {},
   "source": [
    "The code above will generate the following results:\n",
    "\n",
    "![test run successfully](../resources/milestone2_test_success.png)"
   ]
  },
  {
   "cell_type": "markdown",
   "id": "66eb43e0",
   "metadata": {},
   "source": [
    "## 5. Implementation"
   ]
  },
  {
   "cell_type": "markdown",
   "id": "1379eef9",
   "metadata": {},
   "source": [
    "### 5.1 Core Data Structure\n",
    "\n",
    "To calculate the derivative in `forward` mode, we used the dual number approach. In the `UDFunction` class inside the `UDFunction.py`, we overloaded the operators and accommdated the dual number (as the core data structure) approach following the formula below:\n",
    "\n",
    "$$ {z}_j = {v}_j + D_p v_j \\epsilon $$\n",
    "\n",
    "where ${v}_j$ is the real part corresponding to the primal trace, and the ${D_p v_j}$ is the dual part corresponding to the tangent trace. "
   ]
  },
  {
   "cell_type": "markdown",
   "id": "11e5bf60",
   "metadata": {},
   "source": [
    "### 5.2 Core Classes\n",
    "\n",
    "We used `numpy` and `math` for milestone2 and for future implementation, we will be using `matplotlib` for plot the computational graph. "
   ]
  },
  {
   "cell_type": "markdown",
   "id": "b71fb4af",
   "metadata": {},
   "source": [
    "**API.py:**\n",
    "\n",
    "This class contains methods that can be called by the users. Such as ud.trace()\n",
    "\n",
    "| Method                                 | Description                                                                                                  |\n",
    "|----------------------------------------|--------------------------------------------------------------------------------------------------------------|\n",
    "| trace(lambda_function, mode='forward') | given a user defined function, calculate the derivative using auto differentiation. Default mode is forward. |"
   ]
  },
  {
   "cell_type": "markdown",
   "id": "0fe81751",
   "metadata": {},
   "source": [
    "**UDFunction:**\n",
    "\n",
    "This class wraps the core data structure in our library. Objects instanciated from this class are the most basic computing units in our library.\n",
    "\n",
    "- Name Attributes:\n",
    "\n",
    "| Name Attribute | Description                                         |\n",
    "|----------------|-----------------------------------------------------|\n",
    "| values         | values of a elementary function                     |\n",
    "| derivatives    | derivatives of a elementary function                |\n",
    "| shape          | a tuple that declares the shape of values attribute |\n",
    "\n",
    "- Methods:\n",
    "\n",
    "| Method                | Description                        |\n",
    "|-----------------------|------------------------------------|\n",
    "| getters and setters   | getters and setters for attributes |\n",
    "| \\_\\_add__(self, other)  | add values from object: other      |\n",
    "| \\_\\_radd__(self, other) | add values from object: other      |\n",
    "| \\_\\_mul__(self, other)  | multiply values from object: other |\n",
    "| \\_\\_rmul__(self, other) | multiply values from object: other |\n",
    "| \\_\\_neg__(self)         | allow objects with negative values |\n",
    "| \\_\\_sub__(self, other)  | subtract values from other objects |\n",
    "| \\_\\_rsub__(self, other) | subtract values from other objects |\n",
    "| \\_\\_truediv__(self, other)  | true division values from other objects |\n",
    "| \\_\\_rtruediv__(self, other)  | true division values from other objects |\n",
    "| \\_\\_floordiv__(self, other)  | floor division values from other objects |\n",
    "| \\_\\_rfloordiv__(self, other)  | floor division values from other objects |\n",
    "| \\_\\_pow__(self, other)  | allow to the power with UDFuction instances |\n",
    "| constructor           |                                    |\n",
    "\n",
    "Future implementation for UDFunction -- We will include the comparsion operators: \n",
    "\n",
    "| Future Methods                            |\n",
    "|-----------------------------------|\n",
    "| \\_\\_lt__ (less than)                |\n",
    "| \\_\\_gt__ (greater than)             |\n",
    "| \\_\\_le__ (less than or equal to)    |\n",
    "| \\_\\_ge__ (greater than or equal to) |\n",
    "| \\_\\_eq__ (equal to)                 |\n",
    "| \\_\\_ne__ (not equal to)             |"
   ]
  },
  {
   "cell_type": "markdown",
   "id": "e762d83a",
   "metadata": {},
   "source": [
    "**Calculator:**\n",
    "\n",
    "This class contains util functions to perform elementary functions calculation on UDFunction such as $sin$, $sqrt$, $log$, $exp$, which cannot be implemented by overloaded functions in UDFunction.\n",
    "\n",
    "| Method                | Description                                             |\n",
    "|-----------------------|---------------------------------------------------------|\n",
    "| cos(UDFunction)       | calculate cos value of a UDFunction                     |\n",
    "| sin(UDFunction)       | parse UDFunction object into the a descriptive string   |\n",
    "| tan(UDFunction)       | is calculated using sin(UDFunction) and cos(UDFunction) |\n",
    "| sqrt(UDFunction)      | square root performed on UDFunction                     |\n",
    "| exp(UDFunction)       | exponential performed on UDFunction                     |\n",
    "| log(UDFunction, base) | logarithms of base: base                                |"
   ]
  },
  {
   "cell_type": "markdown",
   "id": "613ed0b7",
   "metadata": {},
   "source": [
    "### Future implementation"
   ]
  },
  {
   "cell_type": "markdown",
   "id": "0139844e",
   "metadata": {},
   "source": [
    "**Parser:**\n",
    "\n",
    "This class is used to evaluate the user defined function f and parse it into a UDFunction class which is defined and implemented by our library.\n",
    "\n",
    "- Methods:\n",
    "\n",
    "| Method                    | Description                                                                                                    |\n",
    "|---------------------------|----------------------------------------------------------------------------------------------------------------|\n",
    "| evaluate(lambda_function) | break down the user defined function in to a list of elementary functions, then construct a UDFunction object. |\n",
    "| parse(UDFunction)         | parse UDFunction object into the a descriptive string                                                          |"
   ]
  },
  {
   "cell_type": "markdown",
   "id": "264f8431",
   "metadata": {},
   "source": [
    "**GraphGenerator:**\n",
    "\n",
    "This class contains util functions to generate computation graphs for a given UDFunction that is transformed from user defined function.\n",
    "\n",
    "| Method                     | Description                                                             |\n",
    "|----------------------------|-------------------------------------------------------------------------|\n",
    "| generate(UDFunction, mode) | generate the computational graph either of forward mode or reverse mode |"
   ]
  },
  {
   "cell_type": "markdown",
   "id": "5157ac26",
   "metadata": {},
   "source": [
    "**Utils:**\n",
    "\n",
    "This class contains all other utils that are needed in the library, such as timing methods, etc.\n",
    "\n",
    "| Method           | Description                             |\n",
    "|------------------|-----------------------------------------|\n",
    "| time(operation)  | calculate the time of a operation       |\n",
    "| log(information) | library log of some informative strings |"
   ]
  },
  {
   "cell_type": "markdown",
   "id": "82a197af",
   "metadata": {},
   "source": [
    "## 6. Licensing\n",
    "\n",
    "We will use the `MIT` license for open source software development so that other people who are interested in our software will have access to contribute. \n",
    "\n",
    "- Instinction for our choice: We want it to be simple and permissive.\n",
    "- Under the `MIT` license, anyone can contribute to this project by adding functionality, debug, or customerize it to meet their needs. \n"
   ]
  },
  {
   "cell_type": "markdown",
   "id": "237ca06f",
   "metadata": {},
   "source": [
    "## 7. Future Features\n",
    "\n",
    "As a summary of what we mentioned above, our future features include:\n",
    "\n",
    "1. Implement the \"reverse\" mode.\n",
    "2. Overload comparison operators.\n",
    "3. Overload inverse trig functions.\n",
    "4. Construct the computational graphs using `Parser` and `GraphGenerator`.\n",
    "5. Implement the `Utils` for performance testing and logging. "
   ]
  }
 ],
 "metadata": {
  "kernelspec": {
   "display_name": "Python 3",
   "language": "python",
   "name": "python3"
  },
  "language_info": {
   "codemirror_mode": {
    "name": "ipython",
    "version": 3
   },
   "file_extension": ".py",
   "mimetype": "text/x-python",
   "name": "python",
   "nbconvert_exporter": "python",
   "pygments_lexer": "ipython3",
   "version": "3.8.8"
  }
 },
 "nbformat": 4,
 "nbformat_minor": 5
}
