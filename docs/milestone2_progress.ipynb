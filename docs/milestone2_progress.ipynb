{
 "cells": [
  {
   "cell_type": "markdown",
   "metadata": {},
   "source": [
    "## Milestone2 Progress report\n",
    "\n",
    "Our team had set up a weekly meeting to discuss anything related to the final project. We have made some progress. \n",
    "1. All of the group members worked together to finalize the approach we are going to use for implementing the forward mode in AD. \n",
    "2. We start to overload the operators for our AD class, and tested with our unittest module. For implementation, Xinran and Chelse mainly were in charge of writing the code, and Renhao and Shijia are mainly contributed to generating the test cases. All these works were done with the help from everyone in the team. \n",
    "3. We have also start to work on overload the elemental functions, such as `exp`, `log`, `sin`, `cos`. Currently, we are creating the tests for these functions. \n",
    "4. Everyone has been contributing to writing the documentations, brainstorm ideas, and implementations. \n",
    "\n",
    "Overall, we forstered a collaborative working environment, and set up a way to communicate with each other.  \n",
    "\n"
   ]
  },
  {
   "cell_type": "markdown",
   "metadata": {},
   "source": []
  }
 ],
 "metadata": {
  "language_info": {
   "name": "python"
  },
  "orig_nbformat": 4
 },
 "nbformat": 4,
 "nbformat_minor": 2
}
