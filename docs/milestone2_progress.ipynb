{
 "cells": [
  {
   "cell_type": "markdown",
   "metadata": {},
   "source": [
    "## Milestone2 Progress Report\n",
    "\n",
    "Our team had set up a weekly meeting to discuss anything related to the final project. We have made progress towards the finish line. \n",
    "1. Everyone has been contributing to writing the documentations, brainstorm ideas, and implementations. \n",
    "2. All of the group members worked together to finalize the tentative approach we are going to use for implementing the forward mode in AD. We will make sure the docs are up-to-date.\n",
    "3. We start with overloading the operators (+, -, *, /) for our AD class, and tested with our unittest module. For implementation, Xinran and Chelse mainly were in charge of writing the code, and Renhao and Shijia are mainly contributed to generate the test cases using `unittest` module. All these works were done with the help from everyone in the team. \n",
    "    - We will switch roles for future implementation steps so that each group member will have both experiences in both writing the code and test cases. \n",
    "4. We have also start to work on overloading the elemental functions, such as `exp`, `log`, `sin`, `cos`. Currently, we are working on creating test cases for these functions. \n",
    "5. We enjoy the smooth software developing process following the test-driven development. \n",
    "\n",
    "    Overall, we forstered a highly collaborative working environment, and everyone has been equally contribute to the progress so far. \n",
    "\n"
   ]
  }
 ],
 "metadata": {
  "language_info": {
   "name": "python"
  },
  "orig_nbformat": 4
 },
 "nbformat": 4,
 "nbformat_minor": 2
}
